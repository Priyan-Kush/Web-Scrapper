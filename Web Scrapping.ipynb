{
 "cells": [
  {
   "cell_type": "code",
   "execution_count": 2,
   "id": "26345e3f",
   "metadata": {},
   "outputs": [],
   "source": [
    "from autoscraper import AutoScraper"
   ]
  },
  {
   "cell_type": "code",
   "execution_count": 14,
   "id": "7fbc0b44",
   "metadata": {},
   "outputs": [],
   "source": [
    "amazon_url ='https://www.amazon.in/s?k=watches&i=electronics&crid=2QCGKABR33F92&sprefix=watche%2Celectronics%2C233&ref=nb_sb_noss_2'"
   ]
  },
  {
   "cell_type": "code",
   "execution_count": 35,
   "id": "72d66847",
   "metadata": {},
   "outputs": [],
   "source": [
    "wanted_list =[\"₹2,999\", \"Fire-Boltt Ring 3 Smart Watch 1.8 Biggest Display with Advanced Bluetooth Calling Chip, Voice Assistance,118 Sports Modes, in Built Calculator & Games, SpO2, Heart Rate Monitoring\", \"18,530\"]"
   ]
  },
  {
   "cell_type": "code",
   "execution_count": 36,
   "id": "7cfde788",
   "metadata": {},
   "outputs": [],
   "source": [
    "scrapper = AutoScraper()"
   ]
  },
  {
   "cell_type": "code",
   "execution_count": 37,
   "id": "01c1203f",
   "metadata": {},
   "outputs": [
    {
     "name": "stdout",
     "output_type": "stream",
     "text": [
      "['₹1,199', '₹2,499', '₹1,799', '₹4,999', '₹599', '₹1,399', '₹1,207', '₹3,990', '₹377', '₹999', '₹1,999', '₹4,990', '₹499', '₹199', '₹149', '₹399', '₹1,513', '₹899', '₹2,999', '₹1,499', '₹849', '₹2,490', '₹1,299', '₹6,490', '₹14,990', '₹1,184', '₹1,900', '₹3,499', '₹799', '₹329', '₹9,900', '₹3,999', '₹1,899', '₹1,099', '₹4,499', '₹699', '₹1,497', '₹6,999', '₹12,599']\n"
     ]
    }
   ],
   "source": [
    "result = scrapper.build(amazon_url, wanted_list)\n",
    "print(result)"
   ]
  },
  {
   "cell_type": "code",
   "execution_count": 38,
   "id": "088e29d2",
   "metadata": {},
   "outputs": [
    {
     "data": {
      "text/plain": [
       "{'rule_hayb': ['₹1,199',\n",
       "  '₹2,499',\n",
       "  '₹1,799',\n",
       "  '₹4,999',\n",
       "  '₹599',\n",
       "  '₹1,399',\n",
       "  '₹1,207',\n",
       "  '₹3,990',\n",
       "  '₹12,999',\n",
       "  '₹14,999',\n",
       "  '₹377',\n",
       "  '₹999',\n",
       "  '₹1,999',\n",
       "  '₹4,990',\n",
       "  '₹499',\n",
       "  '₹999',\n",
       "  '₹199',\n",
       "  '₹499',\n",
       "  '₹1,513',\n",
       "  '₹4,999',\n",
       "  '₹377',\n",
       "  '₹999',\n",
       "  '₹1,499',\n",
       "  '₹4,999',\n",
       "  '₹849',\n",
       "  '₹2,490',\n",
       "  '₹1,299',\n",
       "  '₹1,999',\n",
       "  '₹6,490',\n",
       "  '₹14,990',\n",
       "  '₹1,184',\n",
       "  '₹3,990',\n",
       "  '₹399',\n",
       "  '₹1,900',\n",
       "  '₹599',\n",
       "  '₹1,299',\n",
       "  '₹1,799',\n",
       "  '₹3,499',\n",
       "  '₹745',\n",
       "  '₹795',\n",
       "  '₹399',\n",
       "  '₹799',\n",
       "  '₹377',\n",
       "  '₹999',\n",
       "  '₹429',\n",
       "  '₹1,290',\n",
       "  '₹599',\n",
       "  '₹2,499'],\n",
       " 'rule_tr5s': ['₹1,199',\n",
       "  '₹2,499',\n",
       "  '₹1,799',\n",
       "  '₹4,999',\n",
       "  '₹599',\n",
       "  '₹1,399',\n",
       "  '₹1,207',\n",
       "  '₹3,990',\n",
       "  '₹12,999',\n",
       "  '₹14,999',\n",
       "  '₹377',\n",
       "  '₹999',\n",
       "  '₹1,999',\n",
       "  '₹4,990',\n",
       "  '₹499',\n",
       "  '₹999',\n",
       "  '₹199',\n",
       "  '₹499',\n",
       "  '₹1,513',\n",
       "  '₹4,999',\n",
       "  '₹377',\n",
       "  '₹999',\n",
       "  '₹1,499',\n",
       "  '₹4,999',\n",
       "  '₹849',\n",
       "  '₹2,490',\n",
       "  '₹1,299',\n",
       "  '₹1,999',\n",
       "  '₹6,490',\n",
       "  '₹14,990',\n",
       "  '₹1,184',\n",
       "  '₹3,990',\n",
       "  '₹399',\n",
       "  '₹1,900',\n",
       "  '₹599',\n",
       "  '₹1,299',\n",
       "  '₹1,799',\n",
       "  '₹3,499',\n",
       "  '₹745',\n",
       "  '₹795',\n",
       "  '₹399',\n",
       "  '₹799',\n",
       "  '₹377',\n",
       "  '₹999',\n",
       "  '₹429',\n",
       "  '₹1,290',\n",
       "  '₹599',\n",
       "  '₹2,499'],\n",
       " 'rule_a0al': ['₹1,199',\n",
       "  '₹2,499',\n",
       "  '₹1,799',\n",
       "  '₹4,999',\n",
       "  '₹599',\n",
       "  '₹1,399',\n",
       "  '₹1,207',\n",
       "  '₹3,990',\n",
       "  '₹12,999',\n",
       "  '₹14,999',\n",
       "  '₹377',\n",
       "  '₹999',\n",
       "  '₹1,999',\n",
       "  '₹4,990',\n",
       "  '₹499',\n",
       "  '₹999',\n",
       "  '₹199',\n",
       "  '₹499',\n",
       "  '₹1,513',\n",
       "  '₹4,999',\n",
       "  '₹377',\n",
       "  '₹999',\n",
       "  '₹1,499',\n",
       "  '₹4,999',\n",
       "  '₹849',\n",
       "  '₹2,490',\n",
       "  '₹1,299',\n",
       "  '₹1,999',\n",
       "  '₹6,490',\n",
       "  '₹14,990',\n",
       "  '₹1,184',\n",
       "  '₹3,990',\n",
       "  '₹399',\n",
       "  '₹1,900',\n",
       "  '₹599',\n",
       "  '₹1,299',\n",
       "  '₹1,799',\n",
       "  '₹3,499',\n",
       "  '₹745',\n",
       "  '₹795',\n",
       "  '₹399',\n",
       "  '₹799',\n",
       "  '₹377',\n",
       "  '₹999',\n",
       "  '₹429',\n",
       "  '₹1,290',\n",
       "  '₹599',\n",
       "  '₹2,499'],\n",
       " 'rule_x3sm': ['₹1,199',\n",
       "  '₹2,499',\n",
       "  '₹1,799',\n",
       "  '₹4,999',\n",
       "  '₹599',\n",
       "  '₹1,399',\n",
       "  '₹1,207',\n",
       "  '₹3,990',\n",
       "  '₹12,999',\n",
       "  '₹14,999',\n",
       "  '₹377',\n",
       "  '₹999',\n",
       "  '₹1,999',\n",
       "  '₹4,990',\n",
       "  '₹499',\n",
       "  '₹999',\n",
       "  '₹199',\n",
       "  '₹499',\n",
       "  '₹1,513',\n",
       "  '₹4,999',\n",
       "  '₹377',\n",
       "  '₹999',\n",
       "  '₹1,499',\n",
       "  '₹4,999',\n",
       "  '₹849',\n",
       "  '₹2,490',\n",
       "  '₹1,299',\n",
       "  '₹1,999',\n",
       "  '₹6,490',\n",
       "  '₹14,990',\n",
       "  '₹1,184',\n",
       "  '₹3,990',\n",
       "  '₹399',\n",
       "  '₹1,900',\n",
       "  '₹599',\n",
       "  '₹1,299',\n",
       "  '₹1,799',\n",
       "  '₹3,499',\n",
       "  '₹745',\n",
       "  '₹795',\n",
       "  '₹399',\n",
       "  '₹799',\n",
       "  '₹377',\n",
       "  '₹999',\n",
       "  '₹429',\n",
       "  '₹1,290',\n",
       "  '₹599',\n",
       "  '₹2,499'],\n",
       " 'rule_wmdl': ['₹6,490',\n",
       "  '₹9,900',\n",
       "  '₹1,799',\n",
       "  '₹3,999',\n",
       "  '₹1,899',\n",
       "  '₹4,999',\n",
       "  '₹1,099',\n",
       "  '₹4,499',\n",
       "  '₹6,999',\n",
       "  '₹12,599',\n",
       "  '₹599',\n",
       "  '₹1,399',\n",
       "  '₹699',\n",
       "  '₹1,399',\n",
       "  '₹893.84',\n",
       "  '₹3,299',\n",
       "  '₹899',\n",
       "  '₹2,799'],\n",
       " 'rule_kdiz': ['₹6,490',\n",
       "  '₹9,900',\n",
       "  '₹1,799',\n",
       "  '₹3,999',\n",
       "  '₹1,899',\n",
       "  '₹4,999',\n",
       "  '₹1,099',\n",
       "  '₹4,499',\n",
       "  '₹6,999',\n",
       "  '₹12,599',\n",
       "  '₹599',\n",
       "  '₹1,399',\n",
       "  '₹699',\n",
       "  '₹1,399',\n",
       "  '₹893.84',\n",
       "  '₹3,299',\n",
       "  '₹899',\n",
       "  '₹2,799']}"
      ]
     },
     "execution_count": 38,
     "metadata": {},
     "output_type": "execute_result"
    }
   ],
   "source": [
    "scrapper.get_result_similar(amazon_url, grouped= True)"
   ]
  },
  {
   "cell_type": "code",
   "execution_count": 44,
   "id": "80263380",
   "metadata": {},
   "outputs": [],
   "source": [
    "scrapper.set_rule_aliases({'rule_hayb':'Price'})\n",
    "scrapper.keep_rules(['rule_hayb'])\n",
    "scrapper.save('amazon-phones')"
   ]
  },
  {
   "cell_type": "code",
   "execution_count": 45,
   "id": "eae9e4b5",
   "metadata": {},
   "outputs": [],
   "source": [
    "results = scrapper.get_result_similar('https://www.amazon.in/s?k=smart+watches&i=electronics&sprefix=watches%2Celectronics%2C226&ref=nb_sb_ss_ts-doa-p_10_7', group_by_alias= True)"
   ]
  },
  {
   "cell_type": "code",
   "execution_count": 46,
   "id": "ef90dbe9",
   "metadata": {},
   "outputs": [
    {
     "data": {
      "text/plain": [
       "['₹1,999',\n",
       " '₹9,999',\n",
       " '₹1,999',\n",
       " '₹7,990',\n",
       " '₹1,799',\n",
       " '₹6,990',\n",
       " '₹2,799',\n",
       " '₹7,990',\n",
       " '₹1,999',\n",
       " '₹17,999',\n",
       " '₹1,799',\n",
       " '₹4,999',\n",
       " '₹2,199',\n",
       " '₹4,999',\n",
       " '₹1,799',\n",
       " '₹3,999',\n",
       " '₹1,999',\n",
       " '₹9,999',\n",
       " '₹1,999',\n",
       " '₹19,999',\n",
       " '₹3,999',\n",
       " '₹17,999',\n",
       " '₹1,999',\n",
       " '₹3,999',\n",
       " '₹2,499',\n",
       " '₹7,999',\n",
       " '₹2,499',\n",
       " '₹6,990',\n",
       " '₹2,799',\n",
       " '₹5,999',\n",
       " '₹2,199',\n",
       " '₹4,999',\n",
       " '₹1,999',\n",
       " '₹7,990',\n",
       " '₹2,199',\n",
       " '₹9,999',\n",
       " '₹1,499',\n",
       " '₹7,999',\n",
       " '₹1,999',\n",
       " '₹4,999',\n",
       " '₹2,799',\n",
       " '₹7,990',\n",
       " '₹2,199',\n",
       " '₹9,999',\n",
       " '₹1,799',\n",
       " '₹6,990']"
      ]
     },
     "execution_count": 46,
     "metadata": {},
     "output_type": "execute_result"
    }
   ],
   "source": [
    "results[\"Price\"]"
   ]
  },
  {
   "cell_type": "code",
   "execution_count": 51,
   "id": "02fa5c71",
   "metadata": {},
   "outputs": [],
   "source": [
    "import numpy as np\n",
    "import pandas as pd"
   ]
  },
  {
   "cell_type": "code",
   "execution_count": 56,
   "id": "52485874",
   "metadata": {},
   "outputs": [],
   "source": [
    "new_results = pd.DataFrame(eval('results'))"
   ]
  },
  {
   "cell_type": "code",
   "execution_count": 59,
   "id": "2cf790c0",
   "metadata": {},
   "outputs": [],
   "source": [
    "new_results_2= list(results.items())"
   ]
  },
  {
   "cell_type": "code",
   "execution_count": 60,
   "id": "0ac5ab19",
   "metadata": {},
   "outputs": [],
   "source": [
    "import matplotlib.pyplot as plt"
   ]
  },
  {
   "cell_type": "code",
   "execution_count": 63,
   "id": "a5d2e304",
   "metadata": {},
   "outputs": [],
   "source": [
    "prices= list(results.keys())"
   ]
  },
  {
   "cell_type": "code",
   "execution_count": null,
   "id": "3953d4f3",
   "metadata": {},
   "outputs": [],
   "source": []
  },
  {
   "cell_type": "code",
   "execution_count": 69,
   "id": "8610078d",
   "metadata": {},
   "outputs": [
    {
     "data": {
      "image/png": "[encoded data removed]",
      "text/plain": [
       "<Figure size 720x360 with 1 Axes>"
      ]
     },
     "metadata": {
      "needs_background": "light"
     },
     "output_type": "display_data"
    }
   ],
   "source": [
    "%matplotlib inline\n",
    "fig = plt.figure(figsize = (10, 5))\n",
    " \n",
    "# creating the bar plot\n",
    "plt.bar( prices, color ='maroon', height = 10)\n",
    " \n",
    "plt.xlabel(\"Price\")\n",
    "plt.title(\"Prices of different Phones\")\n",
    "plt.show()"
   ]
  },
  {
   "cell_type": "code",
   "execution_count": null,
   "id": "4dd09166",
   "metadata": {},
   "outputs": [],
   "source": []
  }
 ],
 "metadata": {
  "kernelspec": {
   "display_name": "Python 3 (ipykernel)",
   "language": "python",
   "name": "python3"
  },
  "language_info": {
   "codemirror_mode": {
    "name": "ipython",
    "version": 3
   },
   "file_extension": ".py",
   "mimetype": "text/x-python",
   "name": "python",
   "nbconvert_exporter": "python",
   "pygments_lexer": "ipython3",
   "version": "3.10.2"
  }
 },
 "nbformat": 4,
 "nbformat_minor": 5
}
